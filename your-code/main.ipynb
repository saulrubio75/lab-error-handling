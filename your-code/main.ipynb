{
  "cells": [
    {
      "cell_type": "markdown",
      "metadata": {
        "id": "zqIpOyABq5TK"
      },
      "source": [
        "# Before your start:\n",
        "- Read the README.md file\n",
        "- Comment as much as you can and use the resources in the README.md file\n",
        "- Happy learning!"
      ]
    },
    {
      "cell_type": "code",
      "execution_count": 1,
      "metadata": {
        "id": "XUE6htyIq5TN"
      },
      "outputs": [],
      "source": [
        "import math"
      ]
    },
    {
      "cell_type": "markdown",
      "metadata": {
        "id": "jV_9pKUnq5TO"
      },
      "source": [
        "# Challenge 1 - Handling Errors Using `try` and `except`\n",
        "\n",
        "The `try` and `except` clauses create a block for handling exceptions. When we wrap code in this block, we first attempt the code in the `try` and if an error is thrown, we can handle specific errors or all errors in the `except` portion.\n",
        "\n",
        "In the 4 cells below, modify the code to catch the error and print a meaningful message that will alert the user what went wrong. You may catch the error using a general `except` or a specific `except` for the error caused by the code."
      ]
    },
    {
      "cell_type": "code",
      "execution_count": 28,
      "metadata": {
        "id": "QPZOlr77q5TP",
        "outputId": "485dddaa-b7d4-4e35-8568-e2c1d05a39f4",
        "colab": {
          "base_uri": "https://localhost:8080/",
          "height": 204
        }
      },
      "outputs": [
        {
          "output_type": "error",
          "ename": "NameError",
          "evalue": "ignored",
          "traceback": [
            "\u001b[0;31m---------------------------------------------------------------------------\u001b[0m",
            "\u001b[0;31mNameError\u001b[0m                                 Traceback (most recent call last)",
            "\u001b[0;32m<ipython-input-28-fb59808b8bc2>\u001b[0m in \u001b[0;36m<module>\u001b[0;34m\u001b[0m\n\u001b[1;32m      1\u001b[0m \u001b[0;31m# Modify the code below:\u001b[0m\u001b[0;34m\u001b[0m\u001b[0;34m\u001b[0m\u001b[0;34m\u001b[0m\u001b[0m\n\u001b[1;32m      2\u001b[0m \u001b[0;34m\u001b[0m\u001b[0m\n\u001b[0;32m----> 3\u001b[0;31m \u001b[0mprint\u001b[0m\u001b[0;34m(\u001b[0m\u001b[0msome_string\u001b[0m\u001b[0;34m)\u001b[0m\u001b[0;34m\u001b[0m\u001b[0;34m\u001b[0m\u001b[0m\n\u001b[0m",
            "\u001b[0;31mNameError\u001b[0m: name 'some_string' is not defined"
          ]
        }
      ],
      "source": [
        "# Modify the code below:\n",
        "\n",
        "print(some_string)  \n",
        "\n",
        "print('you cant print a string if you dont use the correct puntuation')"
      ]
    },
    {
      "cell_type": "code",
      "execution_count": 4,
      "metadata": {
        "id": "n0En5p-mq5TP",
        "outputId": "2fd20a42-b1db-4305-bed1-13d4bfb010b8",
        "colab": {
          "base_uri": "https://localhost:8080/"
        }
      },
      "outputs": [
        {
          "output_type": "stream",
          "name": "stdout",
          "text": [
            "aa\n",
            "bb\n",
            "cc\n"
          ]
        }
      ],
      "source": [
        "# Modify the code below:\n",
        "\n",
        "for i in ['a','b','c']:\n",
        "    print (i**2) \n",
        "\n",
        "print(\"you only can do this operation with the same data type\")    "
      ]
    },
    {
      "cell_type": "code",
      "execution_count": 6,
      "metadata": {
        "id": "4dA136dAq5TP"
      },
      "outputs": [],
      "source": [
        "# Modify the code below:\n",
        "\n",
        "x = 5\n",
        "y = 0\n",
        "\n",
        "z = x/y \n",
        "\n",
        "print('you cant divided any number by zero ')"
      ]
    },
    {
      "cell_type": "code",
      "execution_count": 8,
      "metadata": {
        "id": "UJsVyf2nq5TQ",
        "outputId": "1e60617a-aabc-41af-b1ac-e346a4d128cb",
        "colab": {
          "base_uri": "https://localhost:8080/"
        }
      },
      "outputs": [
        {
          "output_type": "stream",
          "name": "stdout",
          "text": [
            "20\n"
          ]
        }
      ],
      "source": [
        "# Modify the code below:\n",
        "\n",
        "abc=[10,20,20]\n",
        "print(abc[3]) \n",
        "\n",
        "print('The index is not un the list, the list starts at 0')"
      ]
    },
    {
      "cell_type": "markdown",
      "metadata": {
        "id": "RGz5_jAjq5TQ"
      },
      "source": [
        "# Challenge 2 - Handling Errors Using `if` Statements\n",
        "\n",
        "In many cases, we are able to identify issues that may come up in our code and handle those handlful of issues with an `if` statment. Sometimes we would like to handle different types of inputs and are aware that later in the code, we will have to write two different branches of code for the two different cases we allowed in the beginning.\n",
        "\n",
        "In the 3 cells below, add an `if` statment that will handle both types of input allowed in the functions."
      ]
    },
    {
      "cell_type": "code",
      "execution_count": 13,
      "metadata": {
        "id": "bF4V18FXq5TR",
        "outputId": "f203e733-ce1c-45b9-a3d3-236dfe399f80",
        "colab": {
          "base_uri": "https://localhost:8080/"
        }
      },
      "outputs": [
        {
          "output_type": "execute_result",
          "data": {
            "text/plain": [
              "5.0"
            ]
          },
          "metadata": {},
          "execution_count": 13
        }
      ],
      "source": [
        "# Modify the code below to handle positive and negative numbers by adding an if statement and performing a transformation:\n",
        "\n",
        "def sqrt_for_all(x):\n",
        "    # This function will take any real number and return the square root of its magnitude\n",
        "    # Input: real number\n",
        "    # Output: real number\n",
        "    \n",
        "    # Sample Input: -4\n",
        "    # Sample Output: 2.0 \n",
        "    if x < 0: \n",
        "      x = abs(x)\n",
        "    return math.sqrt(x)\n",
        "\n",
        "sqrt_for_all()"
      ]
    },
    {
      "cell_type": "code",
      "execution_count": 29,
      "metadata": {
        "id": "aV_a2DxNq5TS",
        "outputId": "04d177a5-17a1-4ed9-fa23-37396db8ff84",
        "colab": {
          "base_uri": "https://localhost:8080/"
        }
      },
      "outputs": [
        {
          "output_type": "execute_result",
          "data": {
            "text/plain": [
              "0"
            ]
          },
          "metadata": {},
          "execution_count": 29
        }
      ],
      "source": [
        "# Modify the code below to handle zero as well. In the case of zero, return zero\n",
        "\n",
        "def divide(x, y):\n",
        "    # This function will take any two real numbers and return their quotient. If the denominator is zero, we return zero\n",
        "    # Input: real number\n",
        "    # Output: real number\n",
        "    \n",
        "    # Sample Input: 5, 1\n",
        "    # Sample Output: 5.0 \n",
        "    if y == 0: \n",
        "      return 0 \n",
        "    return x / y\n",
        "\n",
        "divide(5, 0)"
      ]
    },
    {
      "cell_type": "code",
      "execution_count": 32,
      "metadata": {
        "id": "4CdkAWfDq5TS",
        "outputId": "5d20ac55-3f10-4123-c996-f4182ddc3adc",
        "colab": {
          "base_uri": "https://localhost:8080/"
        }
      },
      "outputs": [
        {
          "output_type": "execute_result",
          "data": {
            "text/plain": [
              "[6]"
            ]
          },
          "metadata": {},
          "execution_count": 32
        }
      ],
      "source": [
        "# Modify the function below that it will take either a number and a list or two numbers. \n",
        "# If we take two numbers, add them together and return a list of length 1. \n",
        "# Otherwise, add the number to every element of the list and return the resulting list\n",
        "\n",
        "def add_elements(a, l):\n",
        "\n",
        "    # This function takes either two numbers or a list and a number and adds the number to all elements of the list\n",
        "    # If the function only takes two numbers, it returns a list of length one that is the sum of the numbers\n",
        "    \n",
        "    # Input: number and list or two numbers\n",
        "    # Output: list\n",
        "    \n",
        "    # Sample Input: 5, 6\n",
        "    # Sample Output: [11]\n",
        "\n",
        "      if type(1) == list: \n",
        "      \n",
        "        return [a + element for element in l] \n",
        "      \n",
        "      else: \n",
        "        return [a + 1]\n",
        "        \n",
        "add_elements(5, [1,2])"
      ]
    },
    {
      "cell_type": "markdown",
      "metadata": {
        "id": "UcE1en3Sq5TT"
      },
      "source": [
        "# Challenge 3 - Fixing Errors to Get Code to Run\n",
        "\n",
        "Sometimes the error is not caused by the input but by the code itself. In the 2 following cells below, examine the error and correct the code to avoid the error."
      ]
    },
    {
      "cell_type": "code",
      "execution_count": 17,
      "metadata": {
        "id": "pRihklNKq5TT",
        "outputId": "389f1016-d8f8-4504-ef44-a3681d532de6",
        "colab": {
          "base_uri": "https://localhost:8080/"
        }
      },
      "outputs": [
        {
          "output_type": "execute_result",
          "data": {
            "text/plain": [
              "14"
            ]
          },
          "metadata": {},
          "execution_count": 17
        }
      ],
      "source": [
        "# Modify the code below:\n",
        "\n",
        "l = [1,2,3,4]\n",
        "\n",
        "sum([element + 1 for element in l])"
      ]
    },
    {
      "cell_type": "code",
      "source": [],
      "metadata": {
        "id": "rKzbApUxYHz3"
      },
      "execution_count": null,
      "outputs": []
    },
    {
      "cell_type": "code",
      "execution_count": 33,
      "metadata": {
        "id": "e9amCtGWq5TT",
        "outputId": "5d2a59ef-6b8d-4479-a6b3-cd3474199366",
        "colab": {
          "base_uri": "https://localhost:8080/"
        }
      },
      "outputs": [
        {
          "output_type": "stream",
          "name": "stdout",
          "text": [
            "The current element in the loop is 1\n",
            "The current element in the loop is 2\n",
            "The current element in the loop is 3\n",
            "The current element in the loop is 4\n"
          ]
        }
      ],
      "source": [
        "# Modify the code below:\n",
        "\n",
        "l = [1,2,3,4]\n",
        "\n",
        "for element in l:\n",
        "    print(\"The current element in the loop is\" , element) "
      ]
    },
    {
      "cell_type": "markdown",
      "metadata": {
        "id": "ir-3f668q5TT"
      },
      "source": [
        "# Challenge 4 - Raise Errors on Your Own\n",
        "\n",
        "There are cases where you need to alert your users of a problem even if the input will not immediately produce an error. In these cases you may want to throw an error yourself to bring attention to the problem. In the 2 cells below, write the functions as directed and add the appropriate errors using the `raise` clause. Make sure to add a meaningful error message."
      ]
    },
    {
      "cell_type": "code",
      "execution_count": 34,
      "metadata": {
        "id": "WPqdMZ3wq5TU"
      },
      "outputs": [],
      "source": [
        "def log_square(x):\n",
        "    # This function takes a numeric value and returns the natural log of the square of the number \n",
        "    # The function raises an error if the number is equal to zero\n",
        "    # Use the math.log function in this funtion\n",
        "    \n",
        "    # Input: real number\n",
        "    # Output: real number or error\n",
        "    \n",
        "    # Sample Input: 5\n",
        "    # Sample Output: 3.21887\n",
        "    \n",
        "    # Your code here: \n",
        "\n",
        "    if x==0 : \n",
        "      raise ValueError('Does not exist a Log for 0 ') \n",
        "      \n",
        "    else : \n",
        "      return math.log(x**2)"
      ]
    },
    {
      "cell_type": "code",
      "execution_count": 36,
      "metadata": {
        "id": "JzCBzW38q5TU",
        "outputId": "be3e94c4-47f8-46a1-9777-5df4274dad32",
        "colab": {
          "base_uri": "https://localhost:8080/",
          "height": 365
        }
      },
      "outputs": [
        {
          "output_type": "error",
          "ename": "NameError",
          "evalue": "ignored",
          "traceback": [
            "\u001b[0;31m---------------------------------------------------------------------------\u001b[0m",
            "\u001b[0;31mNameError\u001b[0m                                 Traceback (most recent call last)",
            "\u001b[0;32m<ipython-input-36-6e0b1fa0fd91>\u001b[0m in \u001b[0;36m<module>\u001b[0;34m\u001b[0m\n\u001b[1;32m     16\u001b[0m     \u001b[0;32mexcept\u001b[0m \u001b[0mTypeError\u001b[0m\u001b[0;34m:\u001b[0m\u001b[0;34m\u001b[0m\u001b[0;34m\u001b[0m\u001b[0m\n\u001b[1;32m     17\u001b[0m       \u001b[0mprint\u001b[0m\u001b[0;34m(\u001b[0m\u001b[0;34m'Does not have capital letters '\u001b[0m \u001b[0;34m)\u001b[0m\u001b[0;34m\u001b[0m\u001b[0;34m\u001b[0m\u001b[0m\n\u001b[0;32m---> 18\u001b[0;31m \u001b[0mcheck_capital\u001b[0m\u001b[0;34m(\u001b[0m\u001b[0;34m'juancho'\u001b[0m\u001b[0;34m)\u001b[0m\u001b[0;34m\u001b[0m\u001b[0;34m\u001b[0m\u001b[0m\n\u001b[0m\u001b[1;32m     19\u001b[0m \u001b[0;34m\u001b[0m\u001b[0m\n\u001b[1;32m     20\u001b[0m \u001b[0;34m\u001b[0m\u001b[0m\n",
            "\u001b[0;32m<ipython-input-36-6e0b1fa0fd91>\u001b[0m in \u001b[0;36mcheck_capital\u001b[0;34m(x)\u001b[0m\n\u001b[1;32m      9\u001b[0m     \u001b[0;31m# Your code here:\u001b[0m\u001b[0;34m\u001b[0m\u001b[0;34m\u001b[0m\u001b[0;34m\u001b[0m\u001b[0m\n\u001b[1;32m     10\u001b[0m     \u001b[0;32mtry\u001b[0m\u001b[0;34m:\u001b[0m\u001b[0;34m\u001b[0m\u001b[0;34m\u001b[0m\u001b[0m\n\u001b[0;32m---> 11\u001b[0;31m           \u001b[0;32mif\u001b[0m \u001b[0mre\u001b[0m\u001b[0;34m.\u001b[0m\u001b[0mfindall\u001b[0m\u001b[0;34m(\u001b[0m\u001b[0;34mr'[A-Z]'\u001b[0m\u001b[0;34m,\u001b[0m \u001b[0mX\u001b[0m\u001b[0;34m)\u001b[0m\u001b[0;34m:\u001b[0m\u001b[0;34m\u001b[0m\u001b[0;34m\u001b[0m\u001b[0m\n\u001b[0m\u001b[1;32m     12\u001b[0m             \u001b[0;32mreturn\u001b[0m \u001b[0;32mTrue\u001b[0m\u001b[0;34m\u001b[0m\u001b[0;34m\u001b[0m\u001b[0m\n\u001b[1;32m     13\u001b[0m \u001b[0;34m\u001b[0m\u001b[0m\n",
            "\u001b[0;31mNameError\u001b[0m: name 're' is not defined"
          ]
        }
      ],
      "source": []
    },
    {
      "cell_type": "markdown",
      "metadata": {
        "id": "9jULp-mAq5TU"
      },
      "source": [
        "# Bonus Challenge - Optional Types\n",
        "\n",
        "The optional type is a data type that allows a variable to be either a defined type (like integer, string, etc.) or None. Optional types are defined in the `typing` library. They allow us to transition Python to a statically typed language (as far as our syntax goes). To read more about the `typing` library, click [here](https://docs.python.org/3/library/typing.html#typing.Optional). \n",
        "\n",
        "In the cell below, use the optional type to write a function that can handle both floats and `None` type. This function converts Celcius to Fahrenheit. If we pass `None` to the function, we should return `None`, otherwise, we will compute the converted temperature"
      ]
    },
    {
      "cell_type": "code",
      "execution_count": null,
      "metadata": {
        "id": "2AG3-njOq5TU"
      },
      "outputs": [],
      "source": [
        "from typing import Optional\n",
        "\n",
        "def temp_convert(arg: Optional[float]) -> Optional[float]:\n",
        "    # This function takes either float or None and returns either None or a converted temperature\n",
        "    # Input: Optional[float]\n",
        "    # Output: Optional[float]\n",
        "    \n",
        "    # Sample Input: 5\n",
        "    # Sample Output: 41.0\n",
        "    \n",
        "    #Your Code here:\n",
        "        "
      ]
    }
  ],
  "metadata": {
    "kernelspec": {
      "display_name": "Python 3",
      "language": "python",
      "name": "python3"
    },
    "language_info": {
      "codemirror_mode": {
        "name": "ipython",
        "version": 3
      },
      "file_extension": ".py",
      "mimetype": "text/x-python",
      "name": "python",
      "nbconvert_exporter": "python",
      "pygments_lexer": "ipython3",
      "version": "3.7.3"
    },
    "colab": {
      "provenance": []
    }
  },
  "nbformat": 4,
  "nbformat_minor": 0
}